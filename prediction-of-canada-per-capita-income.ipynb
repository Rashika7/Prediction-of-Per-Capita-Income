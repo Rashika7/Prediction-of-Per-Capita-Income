{
 "cells": [
  {
   "cell_type": "markdown",
   "id": "dfad48b8",
   "metadata": {
    "execution": {
     "iopub.execute_input": "2021-10-05T17:14:02.009043Z",
     "iopub.status.busy": "2021-10-05T17:14:02.008637Z",
     "iopub.status.idle": "2021-10-05T17:14:02.016979Z",
     "shell.execute_reply": "2021-10-05T17:14:02.015337Z",
     "shell.execute_reply.started": "2021-10-05T17:14:02.008989Z"
    },
    "papermill": {
     "duration": 0.010925,
     "end_time": "2021-10-05T17:50:07.457138",
     "exception": false,
     "start_time": "2021-10-05T17:50:07.446213",
     "status": "completed"
    },
    "tags": []
   },
   "source": [
    "**Machine Learning With Python: Linear Regression With One Variable**        \n",
    "\n",
    "Sample problem of predicting Canada per capita income for next years,\n",
    "below table represents previous few years Canada per capita income."
   ]
  },
  {
   "cell_type": "code",
   "execution_count": 1,
   "id": "7dc5fea4",
   "metadata": {
    "execution": {
     "iopub.execute_input": "2021-10-05T17:50:07.481195Z",
     "iopub.status.busy": "2021-10-05T17:50:07.479983Z",
     "iopub.status.idle": "2021-10-05T17:50:08.679853Z",
     "shell.execute_reply": "2021-10-05T17:50:08.679189Z",
     "shell.execute_reply.started": "2021-10-05T17:49:28.026630Z"
    },
    "papermill": {
     "duration": 1.212684,
     "end_time": "2021-10-05T17:50:08.680038",
     "exception": false,
     "start_time": "2021-10-05T17:50:07.467354",
     "status": "completed"
    },
    "tags": []
   },
   "outputs": [
    {
     "data": {
      "text/html": [
       "<div>\n",
       "<style scoped>\n",
       "    .dataframe tbody tr th:only-of-type {\n",
       "        vertical-align: middle;\n",
       "    }\n",
       "\n",
       "    .dataframe tbody tr th {\n",
       "        vertical-align: top;\n",
       "    }\n",
       "\n",
       "    .dataframe thead th {\n",
       "        text-align: right;\n",
       "    }\n",
       "</style>\n",
       "<table border=\"1\" class=\"dataframe\">\n",
       "  <thead>\n",
       "    <tr style=\"text-align: right;\">\n",
       "      <th></th>\n",
       "      <th>year</th>\n",
       "      <th>per capita income (US$)</th>\n",
       "    </tr>\n",
       "  </thead>\n",
       "  <tbody>\n",
       "    <tr>\n",
       "      <th>0</th>\n",
       "      <td>1970</td>\n",
       "      <td>3399.299037</td>\n",
       "    </tr>\n",
       "    <tr>\n",
       "      <th>1</th>\n",
       "      <td>1971</td>\n",
       "      <td>3768.297935</td>\n",
       "    </tr>\n",
       "    <tr>\n",
       "      <th>2</th>\n",
       "      <td>1972</td>\n",
       "      <td>4251.175484</td>\n",
       "    </tr>\n",
       "    <tr>\n",
       "      <th>3</th>\n",
       "      <td>1973</td>\n",
       "      <td>4804.463248</td>\n",
       "    </tr>\n",
       "    <tr>\n",
       "      <th>4</th>\n",
       "      <td>1974</td>\n",
       "      <td>5576.514583</td>\n",
       "    </tr>\n",
       "  </tbody>\n",
       "</table>\n",
       "</div>"
      ],
      "text/plain": [
       "   year  per capita income (US$)\n",
       "0  1970              3399.299037\n",
       "1  1971              3768.297935\n",
       "2  1972              4251.175484\n",
       "3  1973              4804.463248\n",
       "4  1974              5576.514583"
      ]
     },
     "execution_count": 1,
     "metadata": {},
     "output_type": "execute_result"
    }
   ],
   "source": [
    "import pandas as pd\n",
    "import numpy as np\n",
    "from sklearn import linear_model\n",
    "import matplotlib.pyplot as plt\n",
    "df=pd.read_csv(\"../input/canada-per-capita-income-single-variable-data-set/canada_per_capita_income.csv\")\n",
    "df.head()"
   ]
  },
  {
   "cell_type": "code",
   "execution_count": 2,
   "id": "7fc14d63",
   "metadata": {
    "execution": {
     "iopub.execute_input": "2021-10-05T17:50:08.715210Z",
     "iopub.status.busy": "2021-10-05T17:50:08.714539Z",
     "iopub.status.idle": "2021-10-05T17:50:08.718955Z",
     "shell.execute_reply": "2021-10-05T17:50:08.718395Z",
     "shell.execute_reply.started": "2021-10-05T17:49:28.052020Z"
    },
    "papermill": {
     "duration": 0.028304,
     "end_time": "2021-10-05T17:50:08.719096",
     "exception": false,
     "start_time": "2021-10-05T17:50:08.690792",
     "status": "completed"
    },
    "tags": []
   },
   "outputs": [
    {
     "data": {
      "text/html": [
       "<div>\n",
       "<style scoped>\n",
       "    .dataframe tbody tr th:only-of-type {\n",
       "        vertical-align: middle;\n",
       "    }\n",
       "\n",
       "    .dataframe tbody tr th {\n",
       "        vertical-align: top;\n",
       "    }\n",
       "\n",
       "    .dataframe thead th {\n",
       "        text-align: right;\n",
       "    }\n",
       "</style>\n",
       "<table border=\"1\" class=\"dataframe\">\n",
       "  <thead>\n",
       "    <tr style=\"text-align: right;\">\n",
       "      <th></th>\n",
       "      <th>year</th>\n",
       "      <th>PCI</th>\n",
       "    </tr>\n",
       "  </thead>\n",
       "  <tbody>\n",
       "    <tr>\n",
       "      <th>0</th>\n",
       "      <td>1970</td>\n",
       "      <td>3399.299037</td>\n",
       "    </tr>\n",
       "    <tr>\n",
       "      <th>1</th>\n",
       "      <td>1971</td>\n",
       "      <td>3768.297935</td>\n",
       "    </tr>\n",
       "    <tr>\n",
       "      <th>2</th>\n",
       "      <td>1972</td>\n",
       "      <td>4251.175484</td>\n",
       "    </tr>\n",
       "    <tr>\n",
       "      <th>3</th>\n",
       "      <td>1973</td>\n",
       "      <td>4804.463248</td>\n",
       "    </tr>\n",
       "    <tr>\n",
       "      <th>4</th>\n",
       "      <td>1974</td>\n",
       "      <td>5576.514583</td>\n",
       "    </tr>\n",
       "  </tbody>\n",
       "</table>\n",
       "</div>"
      ],
      "text/plain": [
       "   year          PCI\n",
       "0  1970  3399.299037\n",
       "1  1971  3768.297935\n",
       "2  1972  4251.175484\n",
       "3  1973  4804.463248\n",
       "4  1974  5576.514583"
      ]
     },
     "execution_count": 2,
     "metadata": {},
     "output_type": "execute_result"
    }
   ],
   "source": [
    "df = df.rename(columns = {'per capita income (US$)':'PCI'})# Need to be changed column name due to dollar symbol.\n",
    "df.head()"
   ]
  },
  {
   "cell_type": "markdown",
   "id": "bdd4a101",
   "metadata": {
    "papermill": {
     "duration": 0.010418,
     "end_time": "2021-10-05T17:50:08.740228",
     "exception": false,
     "start_time": "2021-10-05T17:50:08.729810",
     "status": "completed"
    },
    "tags": []
   },
   "source": [
    "**Problem Statement: Given above data build a machine learning model that can predict Canada per capita income based on previous years income.**\n",
    "\n",
    "**We can represent values in below table as a scatter plot (values are shown in green markers). After that one can draw a straight line that best fits values on chart.**"
   ]
  },
  {
   "cell_type": "code",
   "execution_count": 3,
   "id": "4984088f",
   "metadata": {
    "execution": {
     "iopub.execute_input": "2021-10-05T17:50:08.785043Z",
     "iopub.status.busy": "2021-10-05T17:50:08.784309Z",
     "iopub.status.idle": "2021-10-05T17:50:09.031809Z",
     "shell.execute_reply": "2021-10-05T17:50:09.031246Z",
     "shell.execute_reply.started": "2021-10-05T17:49:28.066326Z"
    },
    "papermill": {
     "duration": 0.280971,
     "end_time": "2021-10-05T17:50:09.031958",
     "exception": false,
     "start_time": "2021-10-05T17:50:08.750987",
     "status": "completed"
    },
    "tags": []
   },
   "outputs": [
    {
     "data": {
      "text/plain": [
       "<matplotlib.collections.PathCollection at 0x7f83da397590>"
      ]
     },
     "execution_count": 3,
     "metadata": {},
     "output_type": "execute_result"
    },
    {
     "data": {
      "image/png": "[encoded data removed]",
      "text/plain": [
       "<Figure size 432x288 with 1 Axes>"
      ]
     },
     "metadata": {
      "needs_background": "light"
     },
     "output_type": "display_data"
    }
   ],
   "source": [
    "%matplotlib inline\n",
    "plt.xlabel('year')\n",
    "plt.ylabel('per capita income(US$)')\n",
    "plt.scatter(df.year,df.PCI,color='green',marker='*')"
   ]
  },
  {
   "cell_type": "code",
   "execution_count": 4,
   "id": "e750958a",
   "metadata": {
    "execution": {
     "iopub.execute_input": "2021-10-05T17:50:09.088552Z",
     "iopub.status.busy": "2021-10-05T17:50:09.087483Z",
     "iopub.status.idle": "2021-10-05T17:50:09.092003Z",
     "shell.execute_reply": "2021-10-05T17:50:09.091459Z",
     "shell.execute_reply.started": "2021-10-05T17:49:28.341590Z"
    },
    "papermill": {
     "duration": 0.047911,
     "end_time": "2021-10-05T17:50:09.092143",
     "exception": false,
     "start_time": "2021-10-05T17:50:09.044232",
     "status": "completed"
    },
    "tags": []
   },
   "outputs": [
    {
     "data": {
      "text/plain": [
       "array([[41288.69409442]])"
      ]
     },
     "execution_count": 4,
     "metadata": {},
     "output_type": "execute_result"
    }
   ],
   "source": [
    "# Create linear regression object\n",
    "reg = linear_model.LinearRegression()\n",
    "reg.fit(df[['year']],df[[\"PCI\"]])\n",
    "reg.predict([[2020]])"
   ]
  },
  {
   "cell_type": "code",
   "execution_count": 5,
   "id": "aa65b633",
   "metadata": {
    "execution": {
     "iopub.execute_input": "2021-10-05T17:50:09.153560Z",
     "iopub.status.busy": "2021-10-05T17:50:09.147511Z",
     "iopub.status.idle": "2021-10-05T17:50:09.352242Z",
     "shell.execute_reply": "2021-10-05T17:50:09.352763Z",
     "shell.execute_reply.started": "2021-10-05T17:49:28.356592Z"
    },
    "papermill": {
     "duration": 0.247672,
     "end_time": "2021-10-05T17:50:09.352945",
     "exception": false,
     "start_time": "2021-10-05T17:50:09.105273",
     "status": "completed"
    },
    "tags": []
   },
   "outputs": [
    {
     "data": {
      "text/plain": [
       "[<matplotlib.lines.Line2D at 0x7f83d224cb90>]"
      ]
     },
     "execution_count": 5,
     "metadata": {},
     "output_type": "execute_result"
    },
    {
     "data": {
      "image/png": "[encoded data removed]",
      "text/plain": [
       "<Figure size 432x288 with 1 Axes>"
      ]
     },
     "metadata": {
      "needs_background": "light"
     },
     "output_type": "display_data"
    }
   ],
   "source": [
    "plt.plot(df.year , reg.predict(df[['year']]) , color='red')"
   ]
  },
  {
   "cell_type": "code",
   "execution_count": 6,
   "id": "99c77fe3",
   "metadata": {
    "execution": {
     "iopub.execute_input": "2021-10-05T17:50:09.383906Z",
     "iopub.status.busy": "2021-10-05T17:50:09.383255Z",
     "iopub.status.idle": "2021-10-05T17:50:09.386204Z",
     "shell.execute_reply": "2021-10-05T17:50:09.386684Z",
     "shell.execute_reply.started": "2021-10-05T17:49:28.609565Z"
    },
    "papermill": {
     "duration": 0.020316,
     "end_time": "2021-10-05T17:50:09.386866",
     "exception": false,
     "start_time": "2021-10-05T17:50:09.366550",
     "status": "completed"
    },
    "tags": []
   },
   "outputs": [],
   "source": [
    "m = reg.coef_ # slope of best fit line."
   ]
  },
  {
   "cell_type": "code",
   "execution_count": 7,
   "id": "12ab8db9",
   "metadata": {
    "execution": {
     "iopub.execute_input": "2021-10-05T17:50:09.417550Z",
     "iopub.status.busy": "2021-10-05T17:50:09.416856Z",
     "iopub.status.idle": "2021-10-05T17:50:09.420756Z",
     "shell.execute_reply": "2021-10-05T17:50:09.421300Z",
     "shell.execute_reply.started": "2021-10-05T17:49:28.615308Z"
    },
    "papermill": {
     "duration": 0.021179,
     "end_time": "2021-10-05T17:50:09.421518",
     "exception": false,
     "start_time": "2021-10-05T17:50:09.400339",
     "status": "completed"
    },
    "tags": []
   },
   "outputs": [],
   "source": [
    "c = reg.intercept_ # Constant value in best fit line/straight line."
   ]
  },
  {
   "cell_type": "markdown",
   "id": "7abcf14f",
   "metadata": {
    "execution": {
     "iopub.execute_input": "2021-10-05T16:29:11.931045Z",
     "iopub.status.busy": "2021-10-05T16:29:11.930678Z",
     "iopub.status.idle": "2021-10-05T16:29:11.936892Z",
     "shell.execute_reply": "2021-10-05T16:29:11.935985Z",
     "shell.execute_reply.started": "2021-10-05T16:29:11.930995Z"
    },
    "papermill": {
     "duration": 0.013649,
     "end_time": "2021-10-05T17:50:09.448818",
     "exception": false,
     "start_time": "2021-10-05T17:50:09.435169",
     "status": "completed"
    },
    "tags": []
   },
   "source": [
    "**For cross validation, the equation of straight line is y = mx + c, in this x is a variable and we want to predict per capita income for 2020 year, so the value of x is 2020.**"
   ]
  },
  {
   "cell_type": "code",
   "execution_count": 8,
   "id": "bac84c68",
   "metadata": {
    "execution": {
     "iopub.execute_input": "2021-10-05T17:50:09.480216Z",
     "iopub.status.busy": "2021-10-05T17:50:09.479569Z",
     "iopub.status.idle": "2021-10-05T17:50:09.485702Z",
     "shell.execute_reply": "2021-10-05T17:50:09.485138Z",
     "shell.execute_reply.started": "2021-10-05T17:49:28.629072Z"
    },
    "papermill": {
     "duration": 0.023617,
     "end_time": "2021-10-05T17:50:09.485852",
     "exception": false,
     "start_time": "2021-10-05T17:50:09.462235",
     "status": "completed"
    },
    "tags": []
   },
   "outputs": [
    {
     "data": {
      "text/plain": [
       "array([[41288.69409442]])"
      ]
     },
     "execution_count": 8,
     "metadata": {},
     "output_type": "execute_result"
    }
   ],
   "source": [
    "y = m * 2020 + c\n",
    "y"
   ]
  },
  {
   "cell_type": "markdown",
   "id": "2c5b4177",
   "metadata": {
    "papermill": {
     "duration": 0.013826,
     "end_time": "2021-10-05T17:50:09.513462",
     "exception": false,
     "start_time": "2021-10-05T17:50:09.499636",
     "status": "completed"
    },
    "tags": []
   },
   "source": [
    "                                      **Yeah, finished.**"
   ]
  }
 ],
 "metadata": {
  "kernelspec": {
   "display_name": "Python 3",
   "language": "python",
   "name": "python3"
  },
  "language_info": {
   "codemirror_mode": {
    "name": "ipython",
    "version": 3
   },
   "file_extension": ".py",
   "mimetype": "text/x-python",
   "name": "python",
   "nbconvert_exporter": "python",
   "pygments_lexer": "ipython3",
   "version": "3.7.10"
  },
  "papermill": {
   "default_parameters": {},
   "duration": 12.920361,
   "end_time": "2021-10-05T17:50:11.084157",
   "environment_variables": {},
   "exception": null,
   "input_path": "__notebook__.ipynb",
   "output_path": "__notebook__.ipynb",
   "parameters": {},
   "start_time": "2021-10-05T17:49:58.163796",
   "version": "2.3.3"
  }
 },
 "nbformat": 4,
 "nbformat_minor": 5
}
